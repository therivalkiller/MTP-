{
 "cells": [
  {
   "cell_type": "code",
   "execution_count": 1,
   "id": "e7562fd7",
   "metadata": {},
   "outputs": [
    {
     "name": "stderr",
     "output_type": "stream",
     "text": [
      "C:\\Users\\AMRIT\\anaconda3\\lib\\site-packages\\scipy\\__init__.py:155: UserWarning: A NumPy version >=1.18.5 and <1.25.0 is required for this version of SciPy (detected version 1.26.2\n",
      "  warnings.warn(f\"A NumPy version >={np_minversion} and <{np_maxversion}\"\n"
     ]
    }
   ],
   "source": [
    "import ee\n",
    "import geemap"
   ]
  },
  {
   "cell_type": "code",
   "execution_count": 2,
   "id": "695dc8ab",
   "metadata": {},
   "outputs": [
    {
     "data": {
      "text/html": [
       "<p>To authorize access needed by Earth Engine, open the following\n",
       "        URL in a web browser and follow the instructions:</p>\n",
       "        <p><a href=https://code.earthengine.google.com/client-auth?scopes=https%3A//www.googleapis.com/auth/earthengine%20https%3A//www.googleapis.com/auth/devstorage.full_control&request_id=zNQRFpC7OMsE2EnZH4RPMHv3pXl0hTR_YohbTbOHTU4&tc=ohRI7RG37KB6u_7PykW3Yi4wd8ZL3uZ7R1wymjyrFh4&cc=RGm96MlbBme54LN6cOzHwGMzEIXVgvapgJVSNJQfGU8>https://code.earthengine.google.com/client-auth?scopes=https%3A//www.googleapis.com/auth/earthengine%20https%3A//www.googleapis.com/auth/devstorage.full_control&request_id=zNQRFpC7OMsE2EnZH4RPMHv3pXl0hTR_YohbTbOHTU4&tc=ohRI7RG37KB6u_7PykW3Yi4wd8ZL3uZ7R1wymjyrFh4&cc=RGm96MlbBme54LN6cOzHwGMzEIXVgvapgJVSNJQfGU8</a></p>\n",
       "        <p>The authorization workflow will generate a code, which you should paste in the box below.</p>\n",
       "        "
      ],
      "text/plain": [
       "<IPython.core.display.HTML object>"
      ]
     },
     "metadata": {},
     "output_type": "display_data"
    },
    {
     "name": "stdout",
     "output_type": "stream",
     "text": [
      "Enter verification code: 4/1AfJohXmYWRWja36twbRnXtjyS7dNSBC221GiU8Jk7lziS-MqtaijxHRZwaM\n",
      "\n",
      "Successfully saved authorization token.\n"
     ]
    }
   ],
   "source": [
    "ee.Authenticate()"
   ]
  },
  {
   "cell_type": "code",
   "execution_count": 3,
   "id": "1f9c170a",
   "metadata": {},
   "outputs": [],
   "source": [
    "import ee\n",
    "ee.Initialize()\n",
    "import numpy as np"
   ]
  },
  {
   "cell_type": "code",
   "execution_count": 4,
   "id": "f3b5d6f0",
   "metadata": {},
   "outputs": [],
   "source": [
    "rgb = ee.ImageCollection('LANDSAT/LC08/C02/T1_TOA').select(['B4', 'B3', 'B2']).filterDate('2020-06-05', '2020-09-01').filterMetadata('CLOUD_COVER', 'less_than', 15).median().visualize(**{'bands': ['B4', 'B3', 'B2'], 'min': 0, 'max': 0.5})\n",
    "elevation = ee.Image('CGIAR/SRTM90_V4')"
   ]
  },
  {
   "cell_type": "code",
   "execution_count": 5,
   "id": "187bca7d",
   "metadata": {},
   "outputs": [],
   "source": [
    "X = np.linspace(-120,-106,71)\n",
    "Y = np.linspace(35,49,71)"
   ]
  },
  {
   "cell_type": "code",
   "execution_count": 6,
   "id": "ba715859",
   "metadata": {},
   "outputs": [],
   "source": [
    "scale_factors = np.zeros(25)"
   ]
  },
  {
   "cell_type": "code",
   "execution_count": null,
   "id": "45e8da18",
   "metadata": {},
   "outputs": [],
   "source": [
    "i = 0\n",
    "while i < 50:\n",
    "    x = X[i]\n",
    "    y = Y[i]\n",
    "\n",
    "    region = ee.Geometry.Polygon([[[x, y+0.2], [x+0.2, y+0.2], [x, y], [x+0.2, y]]])\n",
    "\n",
    "    rgb_task_config = {\n",
    "        'scale': 30, \n",
    "        'region': region,\n",
    "        'crs': 'EPSG:5070',\n",
    "        'maxPixels': 1e13,\n",
    "        'folder': 'RGB4'\n",
    "    }\n",
    "\n",
    "    elevation_task_config = {\n",
    "        'scale': 30, \n",
    "        'region': region,\n",
    "        'crs': 'EPSG:5070',\n",
    "        'maxPixels': 1e13,\n",
    "        'folder': 'Elevation4'\n",
    "    }\n",
    "\n",
    "    min_max = elevation.reduceRegion(\n",
    "        reducer = ee.Reducer.minMax(),\n",
    "        geometry = region,\n",
    "        scale = 30,\n",
    "        maxPixels = 1e13\n",
    "    )\n",
    "\n",
    "    min_i = min_max.getInfo()['elevation_min']\n",
    "    max_i = min_max.getInfo()['elevation_max']\n",
    "\n",
    "    rgb_task = ee.batch.Export.image(rgb, 'RGB_' + str(i), rgb_task_config)\n",
    "    elevation_task = ee.batch.Export.image(\n",
    "        elevation.visualize(**{'bands': ['elevation'], 'min': min_i, 'max': max_i}),\n",
    "        'E_' + str(i),\n",
    "        elevation_task_config\n",
    "    )\n",
    "\n",
    "    rgb_task.start()\n",
    "    elevation_task.start()\n",
    "\n",
    "    i += 1\n",
    "\n",
    "np.save('scale_factors.npy', scale_factors)"
   ]
  },
  {
   "cell_type": "code",
   "execution_count": null,
   "id": "39ede8e5",
   "metadata": {},
   "outputs": [],
   "source": []
  }
 ],
 "metadata": {
  "kernelspec": {
   "display_name": "Python 3 (ipykernel)",
   "language": "python",
   "name": "python3"
  },
  "language_info": {
   "codemirror_mode": {
    "name": "ipython",
    "version": 3
   },
   "file_extension": ".py",
   "mimetype": "text/x-python",
   "name": "python",
   "nbconvert_exporter": "python",
   "pygments_lexer": "ipython3",
   "version": "3.9.13"
  }
 },
 "nbformat": 4,
 "nbformat_minor": 5
}
